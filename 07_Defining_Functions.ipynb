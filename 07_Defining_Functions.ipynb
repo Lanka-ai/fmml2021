{
  "nbformat": 4,
  "nbformat_minor": 0,
  "metadata": {
    "colab": {
      "name": "07_Defining_Functions.ipynb",
      "provenance": [],
      "include_colab_link": true
    },
    "kernelspec": {
      "name": "python3",
      "display_name": "Python 3"
    },
    "language_info": {
      "name": "python"
    }
  },
  "cells": [
    {
      "cell_type": "markdown",
      "metadata": {
        "id": "view-in-github",
        "colab_type": "text"
      },
      "source": [
        "<a href=\"https://colab.research.google.com/github/Lanka-ai/fmml2021/blob/main/07_Defining_Functions.ipynb\" target=\"_parent\"><img src=\"https://colab.research.google.com/assets/colab-badge.svg\" alt=\"Open In Colab\"/></a>"
      ]
    },
    {
      "cell_type": "code",
      "metadata": {
        "id": "1pqsgNqwnbHE"
      },
      "source": [
        "def inList (my_char, my_list=['a','e','i','o','u']):\n",
        "  \"\"\" this is a function to check whether a char is vowel or not \"\"\"\n",
        "  for each_char in my_list:\n",
        "    if each_char == my_char.lower():\n",
        "      return True\n",
        "  return False"
      ],
      "execution_count": 1,
      "outputs": []
    },
    {
      "cell_type": "code",
      "metadata": {
        "id": "SLpNGCWYn6Er",
        "outputId": "a10a6e16-373d-4dd7-9844-a8e3b0d831bd",
        "colab": {
          "base_uri": "https://localhost:8080/"
        }
      },
      "source": [
        "inList('Z', ['x', 'y'])"
      ],
      "execution_count": 3,
      "outputs": [
        {
          "output_type": "execute_result",
          "data": {
            "text/plain": [
              "False"
            ]
          },
          "metadata": {},
          "execution_count": 3
        }
      ]
    },
    {
      "cell_type": "code",
      "metadata": {
        "id": "r_KUNOW3rCc6"
      },
      "source": [
        "# Write a function to check whether a given number belongs to fibonacci series or not"
      ],
      "execution_count": null,
      "outputs": []
    },
    {
      "cell_type": "code",
      "source": [
        "import math;\n",
        "def perfect(x):\n",
        "\n",
        "    s=int(math.sqrt(x))\n",
        "    return s*s==x\n",
        "\n",
        "n=int(input(\"enter a number\"))\n",
        "result1=5*(n*n)+4\n",
        "result2=5*(n*n)-4\n",
        "if perfect(result1) or perfect(result2):\n",
        "\n",
        "    print(n,\"the given number is fibonacci number\")\n",
        "\n",
        "else:\n",
        "\n",
        "    print(n,\"it is not a fibonacci number\")\n"
      ],
      "metadata": {
        "id": "sp4Ww2kmr6Bf",
        "outputId": "f5cd2906-e757-480e-eb30-105ea422178a",
        "colab": {
          "base_uri": "https://localhost:8080/"
        }
      },
      "execution_count": 13,
      "outputs": [
        {
          "output_type": "stream",
          "name": "stdout",
          "text": [
            "enter a number112\n",
            "112 it is not a fibonacci number\n"
          ]
        }
      ]
    },
    {
      "cell_type": "code",
      "source": [
        ""
      ],
      "metadata": {
        "id": "Ldnbi3nur2rx"
      },
      "execution_count": null,
      "outputs": []
    },
    {
      "cell_type": "markdown",
      "metadata": {
        "id": "3hfExC9BPkKK"
      },
      "source": [
        "Reference: [Python Documentation on Functions](https://docs.python.org/3/tutorial/controlflow.html#defining-functions)"
      ]
    }
  ]
}